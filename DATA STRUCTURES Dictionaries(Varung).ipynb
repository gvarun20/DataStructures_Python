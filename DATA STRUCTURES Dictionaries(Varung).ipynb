{
 "cells": [
  {
   "cell_type": "markdown",
   "id": "3c250fe3",
   "metadata": {},
   "source": [
    "# DATA STRUCTURES Dictionaries"
   ]
  },
  {
   "cell_type": "markdown",
   "id": "c1af2f73",
   "metadata": {},
   "source": [
    "Dictionaries are used to store data values in key:value pairs.\n",
    "\n",
    "A dictionary is a collection which is ordered*, changeable and do not allow duplicates."
   ]
  },
  {
   "cell_type": "code",
   "execution_count": 1,
   "id": "a09410e8",
   "metadata": {},
   "outputs": [],
   "source": [
    "thisdict = {\n",
    "  \"brand\": \"Audi\",\n",
    "  \"model\": \"Q7\",\n",
    "  \"year\": 1994\n",
    "}"
   ]
  },
  {
   "cell_type": "code",
   "execution_count": 2,
   "id": "cce3f2e1",
   "metadata": {},
   "outputs": [
    {
     "data": {
      "text/plain": [
       "{'brand': 'Audi', 'model': 'Q7', 'year': 1994}"
      ]
     },
     "execution_count": 2,
     "metadata": {},
     "output_type": "execute_result"
    }
   ],
   "source": [
    "thisdict"
   ]
  },
  {
   "cell_type": "code",
   "execution_count": 3,
   "id": "f0487e14",
   "metadata": {},
   "outputs": [
    {
     "name": "stdout",
     "output_type": "stream",
     "text": [
      "Audi\n"
     ]
    }
   ],
   "source": [
    "thisdict = {\n",
    "  \"brand\": \"Audi\",\n",
    "  \"model\": \"Q7\",\n",
    "  \"year\": 1994\n",
    "}\n",
    "print(thisdict[\"brand\"])"
   ]
  },
  {
   "cell_type": "code",
   "execution_count": 4,
   "id": "5d719de5",
   "metadata": {},
   "outputs": [],
   "source": [
    "thisdict = {\n",
    "  \"brand\": \"Audi\",\n",
    "  \"model\": \"Q7\",\n",
    "  \"year\": 1994,\n",
    "    \"year\":2000\n",
    "}"
   ]
  },
  {
   "cell_type": "code",
   "execution_count": 5,
   "id": "d95b148f",
   "metadata": {},
   "outputs": [
    {
     "data": {
      "text/plain": [
       "{'brand': 'Audi', 'model': 'Q7', 'year': 2000}"
      ]
     },
     "execution_count": 5,
     "metadata": {},
     "output_type": "execute_result"
    }
   ],
   "source": [
    "thisdict\n"
   ]
  },
  {
   "cell_type": "code",
   "execution_count": 6,
   "id": "2d13de27",
   "metadata": {},
   "outputs": [],
   "source": [
    "thisdict = {\n",
    "  \"brand\": \"Audi\",\n",
    "  \"model\": \"Q7\",\n",
    "  \"year\": 1994,\n",
    "\"colors\": [\"red\", \"white\", \"blue\"]\n",
    "}"
   ]
  },
  {
   "cell_type": "code",
   "execution_count": 7,
   "id": "1ed6abbb",
   "metadata": {},
   "outputs": [
    {
     "name": "stdout",
     "output_type": "stream",
     "text": [
      "<class 'dict'>\n"
     ]
    }
   ],
   "source": [
    "print(type(thisdict))"
   ]
  },
  {
   "cell_type": "markdown",
   "id": "dbec81fb",
   "metadata": {},
   "source": [
    "# Nested Dictionaries"
   ]
  },
  {
   "cell_type": "code",
   "execution_count": 8,
   "id": "d30d99ff",
   "metadata": {},
   "outputs": [
    {
     "name": "stdout",
     "output_type": "stream",
     "text": [
      "{1: 'varun', 2: 'new', 3: {'A': 'Welcome', 'B': 'To', 'C': 'home'}}\n"
     ]
    }
   ],
   "source": [
    "Dict = {1: 'varun', 2: 'new',\n",
    "        3: {'A': 'Welcome', 'B': 'To', 'C': 'home'}}\n",
    " \n",
    "print(Dict)"
   ]
  },
  {
   "cell_type": "code",
   "execution_count": 9,
   "id": "03889737",
   "metadata": {},
   "outputs": [
    {
     "data": {
      "text/plain": [
       "dict_items([(1, 'varun'), (2, 'new'), (3, {'A': 'Welcome', 'B': 'To', 'C': 'home'})])"
      ]
     },
     "execution_count": 9,
     "metadata": {},
     "output_type": "execute_result"
    }
   ],
   "source": [
    "Dict.items()"
   ]
  },
  {
   "cell_type": "code",
   "execution_count": 10,
   "id": "ef0a5a71",
   "metadata": {},
   "outputs": [
    {
     "data": {
      "text/plain": [
       "dict_keys([1, 2, 3])"
      ]
     },
     "execution_count": 10,
     "metadata": {},
     "output_type": "execute_result"
    }
   ],
   "source": [
    "Dict.keys()"
   ]
  },
  {
   "cell_type": "code",
   "execution_count": 11,
   "id": "e4693b8e",
   "metadata": {},
   "outputs": [],
   "source": [
    "Dict.clear()"
   ]
  },
  {
   "cell_type": "code",
   "execution_count": 12,
   "id": "4bad8b5c",
   "metadata": {},
   "outputs": [
    {
     "data": {
      "text/plain": [
       "{}"
      ]
     },
     "execution_count": 12,
     "metadata": {},
     "output_type": "execute_result"
    }
   ],
   "source": [
    "Dict"
   ]
  },
  {
   "cell_type": "code",
   "execution_count": null,
   "id": "75b1f4c1",
   "metadata": {},
   "outputs": [],
   "source": []
  }
 ],
 "metadata": {
  "kernelspec": {
   "display_name": "Python 3 (ipykernel)",
   "language": "python",
   "name": "python3"
  },
  "language_info": {
   "codemirror_mode": {
    "name": "ipython",
    "version": 3
   },
   "file_extension": ".py",
   "mimetype": "text/x-python",
   "name": "python",
   "nbconvert_exporter": "python",
   "pygments_lexer": "ipython3",
   "version": "3.10.9"
  }
 },
 "nbformat": 4,
 "nbformat_minor": 5
}
