{
 "cells": [
  {
   "cell_type": "markdown",
   "id": "61d142fc",
   "metadata": {},
   "source": [
    "# The module implements three types of queue, which differ only in the order in which the entries are retrieved. In a FIFO queue, the first tasks added are the first retrieved. In a LIFO queue, the most recently added entry is the first retrieved (operating like a stack)."
   ]
  },
  {
   "cell_type": "markdown",
   "id": "d79d149f",
   "metadata": {},
   "source": [
    "# Simple Queue: It has a fixed size and once the size is full, no more elements can be added.\n",
    "# Circular Queue: It is also a fixed size queue but it uses a circular buffer to store elements. Once the size is full, the oldest element is overwritten.\n",
    "# Priority Queue: It is a queue where elements are prioritized. Elements with higher priority are dequeued first.\n",
    "# Double Ended Queue (Deque): It is a queue that allows elements to be added and removed from both ends."
   ]
  },
  {
   "cell_type": "markdown",
   "id": "f90a367e",
   "metadata": {},
   "source": [
    "# deque"
   ]
  },
  {
   "cell_type": "code",
   "execution_count": 1,
   "id": "d9e25650",
   "metadata": {},
   "outputs": [
    {
     "name": "stdout",
     "output_type": "stream",
     "text": [
      "Initial queue\n",
      "deque(['a', 'b', 'c', 'd'])\n",
      "\n",
      "Elements dequeued from the queue\n",
      "a\n",
      "b\n",
      "c\n",
      "\n",
      "Queue after removing elements\n",
      "deque(['d'])\n"
     ]
    }
   ],
   "source": [
    "from collections import deque\n",
    "q = deque()\n",
    "q.append('a')\n",
    "q.append('b')\n",
    "q.append('c')\n",
    "q.append('d')\n",
    "print(\"Initial queue\")\n",
    "print(q)\n",
    "print(\"\\nElements dequeued from the queue\")\n",
    "print(q.popleft())\n",
    "print(q.popleft())\n",
    "print(q.popleft())\n",
    "\n",
    "print(\"\\nQueue after removing elements\")\n",
    "print(q)\n"
   ]
  },
  {
   "cell_type": "code",
   "execution_count": null,
   "id": "c19bfd31",
   "metadata": {},
   "outputs": [
    {
     "name": "stdout",
     "output_type": "stream",
     "text": [
      "0\n"
     ]
    }
   ],
   "source": [
    "from queue import Queue\n",
    "q = Queue(maxsize = 3)\n",
    "print(q.qsize()) \n",
    "q.put('a')\n",
    "q.put('b')\n",
    "q.put('c')\n",
    "q.put('d')\n",
    "q.put('e')\n",
    "print(\"\\nFull: \", q.full()) \n",
    "print(\"\\nElements dequeued from the queue\")\n",
    "print(q.get())\n",
    "print(q.get())\n",
    "print(q.get())\n",
    "print(\"\\nEmpty: \", q.empty())\n",
    "q.put(1)\n",
    "print(\"\\nEmpty: \", q.empty()) \n",
    "print(\"Full: \", q.full())\n"
   ]
  },
  {
   "cell_type": "code",
   "execution_count": null,
   "id": "e0371aea",
   "metadata": {},
   "outputs": [],
   "source": [
    "# Implement Queue using List(Functions)\n",
    "q=[]\n",
    "def Enqueue():\n",
    "    if len(q)==size: # check wether the stack is full or not\n",
    "        print(\"Queue is Full!!!!\")\n",
    "    else:\n",
    "        element=input(\"Enter the element:\")\n",
    "        q.append(element)\n",
    "        print(element,\"is added to the Queue!\")\n",
    "def dequeue():\n",
    "    if not q:# or if len(stack)==0\n",
    "        print(\"Queue is Empty!!!\")\n",
    "    else:\n",
    "        e=q.pop(0)\n",
    "        print(\"element removed!!:\",e)\n",
    "def display():\n",
    "    print(q)\n",
    "    size=int(input(\"Enter the size of Queue:\"))\n",
    "    while True:\n",
    "        print(\"Select the Operation:1.Add 2.Delete 3. Display 4. Quit\")\n",
    "        choice=int(input())\n",
    "        if choice==1:\n",
    "            Enqueue()\n",
    "        elif choice==2:\n",
    "            dequeue()\n",
    "        elif choice==3:\n",
    "            display()\n",
    "        elif choice==4:\n",
    "            break\n",
    "        else:\n",
    "            print(\"Invalid Option!!!\")"
   ]
  },
  {
   "cell_type": "code",
   "execution_count": null,
   "id": "f565f9b8",
   "metadata": {},
   "outputs": [],
   "source": [
    "# implment queue using queue module\n",
    "from queue import Queue\n",
    "q=Queue(maxsize=4)\n",
    "print(\"Initial Size Before Insertion:\",q.qsize())\n",
    "q.put('A')\n",
    "q.put('AA')\n",
    "q.put('AAA')\n",
    "q.put('AAAA')\n",
    "q.qsize()\n",
    "print(\"After Insertion:\",q.qsize())\n",
    "print(\"Queue is Full or Not:\",q.full())\n",
    "print(\"Size of Queue:\",q.qsize())\n",
    "print(\"Removing Elements:\")\n",
    "print(q.get())\n",
    "print(q.get())\n",
    "print(q.get())\n",
    "print(\"Empty or Not??\",q.empty())\n",
    "print(q.get())\n",
    "print(\"Empty or Not??\",q.empty())\n",
    "print(\"Size of Queue:\",q.qsize())"
   ]
  },
  {
   "cell_type": "code",
   "execution_count": null,
   "id": "dbad68cf",
   "metadata": {},
   "outputs": [],
   "source": [
    "from collections import deque\n",
    "q=deque()\n",
    "q.append(10)\n",
    "q.append(100)\n",
    "q.append(1000)\n",
    "q.append(10000)\n",
    "print(\"Initial Queue is:\",q)\n",
    "print(q.popleft())\n",
    "print(q.popleft())\n",
    "print(\"After Removing elements:\",q)"
   ]
  },
  {
   "cell_type": "markdown",
   "id": "6e615995",
   "metadata": {},
   "source": [
    "# Circular Queue"
   ]
  },
  {
   "cell_type": "code",
   "execution_count": null,
   "id": "60e19d3e",
   "metadata": {},
   "outputs": [],
   "source": [
    "class CircularQueue:\n",
    "    def __init__(self, capacity):\n",
    "        self.capacity = capacity\n",
    "        self.queue = [None] * capacity\n",
    "        self.front = self.rear = -1\n",
    "\n",
    "    def is_empty(self):\n",
    "        return self.front == self.rear == -1\n",
    "\n",
    "    def is_full(self):\n",
    "        return (self.rear + 1) % self.capacity == self.front\n",
    "\n",
    "    def enqueue(self, item):\n",
    "        if self.is_full():\n",
    "            print(\"Queue is full. Cannot enqueue.\")\n",
    "            return\n",
    "\n",
    "        if self.is_empty():\n",
    "            self.front = self.rear = 0\n",
    "        else:\n",
    "            self.rear = (self.rear + 1) % self.capacity\n",
    "\n",
    "        self.queue[self.rear] = item\n",
    "        print(f\"Enqueued: {item}\")\n",
    "\n",
    "    def dequeue(self):\n",
    "        if self.is_empty():\n",
    "            print(\"Queue is empty. Cannot dequeue.\")\n",
    "            return None\n",
    "\n",
    "        removed_item = self.queue[self.front]\n",
    "\n",
    "        if self.front == self.rear:\n",
    "            self.front = self.rear = -1\n",
    "        else:\n",
    "            self.front = (self.front + 1) % self.capacity\n",
    "\n",
    "        print(f\"Dequeued: {removed_item}\")\n",
    "        return removed_item\n",
    "\n",
    "    def peek(self):\n",
    "        if self.is_empty():\n",
    "            print(\"Queue is empty.\")\n",
    "            return None\n",
    "        return self.queue[self.front]\n",
    "\n",
    "    def display(self):\n",
    "        if self.is_empty():\n",
    "            print(\"Queue is empty.\")\n",
    "            return\n",
    "\n",
    "        current = self.front\n",
    "        while True:\n",
    "            print(self.queue[current], end=\" \")\n",
    "            if current == self.rear:\n",
    "                break\n",
    "            current = (current + 1) % self.capacity\n",
    "        print()\n",
    "\n",
    "\n",
    "# Example usage:\n",
    "cq = CircularQueue(5)\n",
    "\n",
    "cq.enqueue(1)\n",
    "cq.enqueue(2)\n",
    "cq.enqueue(3)\n",
    "cq.enqueue(4)\n",
    "cq.enqueue(5)\n",
    "\n",
    "cq.display()\n",
    "\n",
    "print(\"Front element:\", cq.peek())\n",
    "\n",
    "cq.dequeue()\n",
    "cq.dequeue()\n",
    "\n",
    "cq.display()\n",
    "\n",
    "cq.enqueue(6)\n",
    "cq.enqueue(7)\n",
    "\n",
    "cq.display()\n"
   ]
  },
  {
   "cell_type": "code",
   "execution_count": null,
   "id": "b5cd2689",
   "metadata": {},
   "outputs": [],
   "source": []
  }
 ],
 "metadata": {
  "kernelspec": {
   "display_name": "Python 3 (ipykernel)",
   "language": "python",
   "name": "python3"
  },
  "language_info": {
   "codemirror_mode": {
    "name": "ipython",
    "version": 3
   },
   "file_extension": ".py",
   "mimetype": "text/x-python",
   "name": "python",
   "nbconvert_exporter": "python",
   "pygments_lexer": "ipython3",
   "version": "3.10.9"
  }
 },
 "nbformat": 4,
 "nbformat_minor": 5
}
