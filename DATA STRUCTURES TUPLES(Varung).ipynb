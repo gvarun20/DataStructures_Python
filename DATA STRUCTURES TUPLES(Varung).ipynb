{
 "cells": [
  {
   "cell_type": "markdown",
   "id": "1f54e9ae",
   "metadata": {},
   "source": [
    "# DATA STRUCTURES TUPLES"
   ]
  },
  {
   "cell_type": "markdown",
   "id": "bec8574e",
   "metadata": {},
   "source": [
    "Python Tuple is a collection of objects separated by commas."
   ]
  },
  {
   "cell_type": "code",
   "execution_count": 1,
   "id": "021b7d0f",
   "metadata": {},
   "outputs": [
    {
     "name": "stdout",
     "output_type": "stream",
     "text": [
      "('varun', 'apple', 'banana')\n"
     ]
    }
   ],
   "source": [
    "var = (\"varun\",\"apple\",\"banana\")\n",
    "print(var)"
   ]
  },
  {
   "cell_type": "code",
   "execution_count": 4,
   "id": "adb28874",
   "metadata": {},
   "outputs": [
    {
     "name": "stdout",
     "output_type": "stream",
     "text": [
      "<class 'tuple'>\n",
      "<class 'str'>\n"
     ]
    }
   ],
   "source": [
    "mytuple = (\"apple\",)\n",
    "print(type(mytuple))\n",
    " \n",
    "#NOT a tuple\n",
    "mytuple = (\"apple\")\n",
    "print(type(mytuple))"
   ]
  },
  {
   "cell_type": "markdown",
   "id": "8976f798",
   "metadata": {},
   "source": [
    "# Tuple Constructor in Python"
   ]
  },
  {
   "cell_type": "code",
   "execution_count": 6,
   "id": "8a1a1de6",
   "metadata": {},
   "outputs": [
    {
     "name": "stdout",
     "output_type": "stream",
     "text": [
      "('data', 'machine ', 'deep learning')\n"
     ]
    }
   ],
   "source": [
    "tuple_constructor1 = tuple(((\"data\", \"machine \", \"deep learning\")))\n",
    "print(tuple_constructor1)"
   ]
  },
  {
   "cell_type": "markdown",
   "id": "70fe213c",
   "metadata": {},
   "source": [
    "# Tuples are immutable and ordered and allow duplicate values. "
   ]
  },
  {
   "cell_type": "code",
   "execution_count": 7,
   "id": "f3530996",
   "metadata": {},
   "outputs": [
    {
     "name": "stdout",
     "output_type": "stream",
     "text": [
      "8\n",
      "4\n",
      "(1, 2, 3, 1, 4, 2, 3)\n"
     ]
    },
    {
     "ename": "TypeError",
     "evalue": "'tuple' object does not support item assignment",
     "output_type": "error",
     "traceback": [
      "\u001b[1;31m---------------------------------------------------------------------------\u001b[0m",
      "\u001b[1;31mTypeError\u001b[0m                                 Traceback (most recent call last)",
      "Cell \u001b[1;32mIn[7], line 12\u001b[0m\n\u001b[0;32m      9\u001b[0m \u001b[38;5;28mprint\u001b[39m(mytuple)\n\u001b[0;32m     11\u001b[0m \u001b[38;5;66;03m# adding an element\u001b[39;00m\n\u001b[1;32m---> 12\u001b[0m mytuple[\u001b[38;5;241m1\u001b[39m] \u001b[38;5;241m=\u001b[39m \u001b[38;5;241m100\u001b[39m\n\u001b[0;32m     13\u001b[0m \u001b[38;5;28mprint\u001b[39m(mytuple)\n",
      "\u001b[1;31mTypeError\u001b[0m: 'tuple' object does not support item assignment"
     ]
    }
   ],
   "source": [
    "mytuple = (1,8, 2, 9,3, 4, 5)\n",
    "\n",
    "# tuples are indexed\n",
    "print(mytuple[1])\n",
    "print(mytuple[5])\n",
    "\n",
    "# tuples contain duplicate elements\n",
    "mytuple = (1, 2, 3, 1,4, 2, 3)\n",
    "print(mytuple)\n",
    "\n",
    "# adding an element\n",
    "mytuple[1] = 100\n",
    "print(mytuple)\n"
   ]
  },
  {
   "cell_type": "markdown",
   "id": "4f9d0195",
   "metadata": {},
   "source": [
    "# Accessing Values in Python Tuples \n",
    "# 1)Python Access Tuple using a Positive Index"
   ]
  },
  {
   "cell_type": "code",
   "execution_count": 8,
   "id": "42e83c2e",
   "metadata": {},
   "outputs": [
    {
     "name": "stdout",
     "output_type": "stream",
     "text": [
      "Value in Var[0] =  varun\n",
      "Value in Var[1] =  apple\n",
      "Value in Var[2] =  banana\n"
     ]
    }
   ],
   "source": [
    "var = (\"varun\",\"apple\",\"banana\")\n",
    "\n",
    "print(\"Value in Var[0] = \", var[0])\n",
    "print(\"Value in Var[1] = \", var[1])\n",
    "print(\"Value in Var[2] = \", var[2])\n"
   ]
  },
  {
   "cell_type": "markdown",
   "id": "c638fc4c",
   "metadata": {},
   "source": [
    "# 2)Access Tuple using Negative Index"
   ]
  },
  {
   "cell_type": "code",
   "execution_count": 9,
   "id": "c3194061",
   "metadata": {},
   "outputs": [
    {
     "name": "stdout",
     "output_type": "stream",
     "text": [
      "Value in Var[-1] =  banana\n",
      "Value in Var[-2] =  apple\n",
      "Value in Var[-3] =  varun\n"
     ]
    }
   ],
   "source": [
    "var = (\"varun\",\"apple\",\"banana\")\n",
    "\n",
    "print(\"Value in Var[-1] = \", var[-1])\n",
    "print(\"Value in Var[-2] = \", var[-2])\n",
    "print(\"Value in Var[-3] = \", var[-3])\n"
   ]
  },
  {
   "cell_type": "markdown",
   "id": "8d2b173d",
   "metadata": {},
   "source": [
    "# Different Operations Related to Tuples"
   ]
  },
  {
   "cell_type": "markdown",
   "id": "fe7a3c8b",
   "metadata": {},
   "source": [
    "Concatenation, Nesting, Repetition, Slicing ,Deleting, Finding the length Multiple Data Types with tuples ,\n",
    "Conversion of lists to tuples ,Tuples in a Loop"
   ]
  },
  {
   "cell_type": "markdown",
   "id": "e16c594a",
   "metadata": {},
   "source": [
    "# Concatenation of Python Tuples"
   ]
  },
  {
   "cell_type": "code",
   "execution_count": 11,
   "id": "d26c36a0",
   "metadata": {},
   "outputs": [
    {
     "name": "stdout",
     "output_type": "stream",
     "text": [
      "(0, 1, 2, 3, 4, 5, 'python', 'varun')\n"
     ]
    }
   ],
   "source": [
    "# Code for concatenating 2 tuples\n",
    "tuple1 = (0, 1, 2, 3,4,5)\n",
    "tuple2 = ('python', 'varun')\n",
    "\n",
    "# Concatenating above two\n",
    "print(tuple1 + tuple2)\n"
   ]
  },
  {
   "cell_type": "markdown",
   "id": "2627e48b",
   "metadata": {},
   "source": [
    "# Nesting of Python Tuples"
   ]
  },
  {
   "cell_type": "code",
   "execution_count": 12,
   "id": "47c7ba4a",
   "metadata": {},
   "outputs": [
    {
     "name": "stdout",
     "output_type": "stream",
     "text": [
      "((0, 1, 2, 3, 4, 5), ('python', 'varun'))\n"
     ]
    }
   ],
   "source": [
    "# Code for creating nested tuples\n",
    "tuple1 = (0, 1, 2, 3,4,5)\n",
    "tuple2 = ('python', 'varun')\n",
    "\n",
    "tuple3 = (tuple1, tuple2)\n",
    "print(tuple3)\n"
   ]
  },
  {
   "cell_type": "markdown",
   "id": "aed3aada",
   "metadata": {},
   "source": [
    "# Repetition Python Tuples"
   ]
  },
  {
   "cell_type": "code",
   "execution_count": 13,
   "id": "7a26ec37",
   "metadata": {},
   "outputs": [
    {
     "name": "stdout",
     "output_type": "stream",
     "text": [
      "('varun', 'varun', 'varun')\n"
     ]
    }
   ],
   "source": [
    "# Code to create a tuple with repetition\n",
    "tuple3 = ('varun',)*3\n",
    "print(tuple3)\n"
   ]
  },
  {
   "cell_type": "markdown",
   "id": "b31d9a2f",
   "metadata": {},
   "source": [
    "# Slicing Tuples in Python"
   ]
  },
  {
   "cell_type": "code",
   "execution_count": 15,
   "id": "dcba2270",
   "metadata": {},
   "outputs": [
    {
     "name": "stdout",
     "output_type": "stream",
     "text": [
      "(1, 2, 3, 4, 5)\n",
      "(5, 3, 1)\n",
      "(3,)\n"
     ]
    }
   ],
   "source": [
    "# code to test slicing\n",
    "tuple1 = (0, 1, 2, 3,4,5)\n",
    "\n",
    "print(tuple1[1:])\n",
    "print(tuple1[::-2])\n",
    "print(tuple1[3:4])\n"
   ]
  },
  {
   "cell_type": "markdown",
   "id": "d5052558",
   "metadata": {},
   "source": [
    "# Converting a List to a Tuple"
   ]
  },
  {
   "cell_type": "code",
   "execution_count": 16,
   "id": "341e4eb9",
   "metadata": {},
   "outputs": [
    {
     "name": "stdout",
     "output_type": "stream",
     "text": [
      "(0, 1, 2, 3, 4, 5)\n",
      "('p', 'y', 't', 'h', 'o', 'n')\n"
     ]
    }
   ],
   "source": [
    "# Code for converting a list and a string into a tuple\n",
    "list1 = [0, 1, 2, 3,4,5]\n",
    "\n",
    "print(tuple(list1))\n",
    "\n",
    "# string 'python'\n",
    "print(tuple('python'))\n"
   ]
  },
  {
   "cell_type": "code",
   "execution_count": null,
   "id": "3a4bdda0",
   "metadata": {},
   "outputs": [],
   "source": []
  }
 ],
 "metadata": {
  "kernelspec": {
   "display_name": "Python 3 (ipykernel)",
   "language": "python",
   "name": "python3"
  },
  "language_info": {
   "codemirror_mode": {
    "name": "ipython",
    "version": 3
   },
   "file_extension": ".py",
   "mimetype": "text/x-python",
   "name": "python",
   "nbconvert_exporter": "python",
   "pygments_lexer": "ipython3",
   "version": "3.10.9"
  }
 },
 "nbformat": 4,
 "nbformat_minor": 5
}
