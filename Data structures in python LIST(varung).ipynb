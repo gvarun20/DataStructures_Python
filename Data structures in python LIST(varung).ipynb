{
 "cells": [
  {
   "cell_type": "markdown",
   "id": "d41088fb",
   "metadata": {},
   "source": [
    "# DATA STRUCTURES"
   ]
  },
  {
   "cell_type": "markdown",
   "id": "0b5c81da",
   "metadata": {},
   "source": [
    "# 1)Lists"
   ]
  },
  {
   "cell_type": "markdown",
   "id": "f19e5e13",
   "metadata": {},
   "source": [
    "A list is a value that contains multiple values in an ordered sequence."
   ]
  },
  {
   "cell_type": "code",
   "execution_count": 1,
   "id": "5b213e39",
   "metadata": {},
   "outputs": [
    {
     "data": {
      "text/plain": [
       "[1, 3, 5, 7, 6, 98]"
      ]
     },
     "execution_count": 1,
     "metadata": {},
     "output_type": "execute_result"
    }
   ],
   "source": [
    "[1,3,5,7,6,98]"
   ]
  },
  {
   "cell_type": "code",
   "execution_count": 2,
   "id": "b7a3ad78",
   "metadata": {},
   "outputs": [
    {
     "data": {
      "text/plain": [
       "['caa', 'abb', 'dcc', 'sdd', 'edd', 'wde', 'fds', 'thr']"
      ]
     },
     "execution_count": 2,
     "metadata": {},
     "output_type": "execute_result"
    }
   ],
   "source": [
    "['caa','abb','dcc','sdd','edd','wde','fds','thr']"
   ]
  },
  {
   "cell_type": "code",
   "execution_count": 3,
   "id": "b212c2ff",
   "metadata": {},
   "outputs": [],
   "source": [
    "index =[1,3,5,7,6,98]"
   ]
  },
  {
   "cell_type": "code",
   "execution_count": 4,
   "id": "ef9777f4",
   "metadata": {},
   "outputs": [
    {
     "data": {
      "text/plain": [
       "3"
      ]
     },
     "execution_count": 4,
     "metadata": {},
     "output_type": "execute_result"
    }
   ],
   "source": [
    "index[1]"
   ]
  },
  {
   "cell_type": "code",
   "execution_count": 5,
   "id": "3f5106d2",
   "metadata": {},
   "outputs": [
    {
     "data": {
      "text/plain": [
       "98"
      ]
     },
     "execution_count": 5,
     "metadata": {},
     "output_type": "execute_result"
    }
   ],
   "source": [
    "index[5]"
   ]
  },
  {
   "cell_type": "code",
   "execution_count": 6,
   "id": "0736c019",
   "metadata": {},
   "outputs": [],
   "source": [
    "new=[['caa','abb','dcc','sdd','edd'],[1,3,5,7,6,98]]"
   ]
  },
  {
   "cell_type": "code",
   "execution_count": 7,
   "id": "03618a01",
   "metadata": {},
   "outputs": [
    {
     "data": {
      "text/plain": [
       "7"
      ]
     },
     "execution_count": 7,
     "metadata": {},
     "output_type": "execute_result"
    }
   ],
   "source": [
    "new[1][3]"
   ]
  },
  {
   "cell_type": "code",
   "execution_count": 8,
   "id": "da3d6b8e",
   "metadata": {},
   "outputs": [
    {
     "data": {
      "text/plain": [
       "'sdd'"
      ]
     },
     "execution_count": 8,
     "metadata": {},
     "output_type": "execute_result"
    }
   ],
   "source": [
    "new[0][3]"
   ]
  },
  {
   "cell_type": "markdown",
   "id": "2a4b34de",
   "metadata": {},
   "source": [
    "Python will give you an IndexError error message if you use an index that exceeds thenumber of values in your list value."
   ]
  },
  {
   "cell_type": "markdown",
   "id": "4a54c037",
   "metadata": {},
   "source": [
    "# Negative Indexes"
   ]
  },
  {
   "cell_type": "code",
   "execution_count": 9,
   "id": "36803d59",
   "metadata": {},
   "outputs": [
    {
     "data": {
      "text/plain": [
       "'elephant'"
      ]
     },
     "execution_count": 9,
     "metadata": {},
     "output_type": "execute_result"
    }
   ],
   "source": [
    "spam = ['cat', 'bat', 'rat', 'elephant']\n",
    "\n",
    "spam[-1]"
   ]
  },
  {
   "cell_type": "markdown",
   "id": "34d76bd3",
   "metadata": {},
   "source": [
    "A slice is typed between square brackets, like an index, butit has two integers separated by a colon."
   ]
  },
  {
   "cell_type": "markdown",
   "id": "2a533f7f",
   "metadata": {},
   "source": [
    "# Changing Values in a List with Indexes"
   ]
  },
  {
   "cell_type": "code",
   "execution_count": 10,
   "id": "ffc0799a",
   "metadata": {},
   "outputs": [
    {
     "data": {
      "text/plain": [
       "['cat', 'aardvark', 'rat', 'elephant']"
      ]
     },
     "execution_count": 10,
     "metadata": {},
     "output_type": "execute_result"
    }
   ],
   "source": [
    "spam = ['cat', 'bat', 'rat', 'elephant']\n",
    "\n",
    "spam[1] = 'aardvark'\n",
    "\n",
    "spam"
   ]
  },
  {
   "cell_type": "markdown",
   "id": "9eb79b69",
   "metadata": {},
   "source": [
    "# List Concatenation and List Replication"
   ]
  },
  {
   "cell_type": "code",
   "execution_count": 11,
   "id": "9e01e5ce",
   "metadata": {},
   "outputs": [
    {
     "data": {
      "text/plain": [
       "['cat', 'bat', 'rat', 'elephant', 1, 3, 5, 7, 6, 98]"
      ]
     },
     "execution_count": 11,
     "metadata": {},
     "output_type": "execute_result"
    }
   ],
   "source": [
    "['cat', 'bat', 'rat', 'elephant'] + [1,3,5,7,6,98]"
   ]
  },
  {
   "cell_type": "code",
   "execution_count": 12,
   "id": "4ac15c36",
   "metadata": {},
   "outputs": [
    {
     "data": {
      "text/plain": [
       "[1,\n",
       " 3,\n",
       " 5,\n",
       " 7,\n",
       " 6,\n",
       " 98,\n",
       " 1,\n",
       " 3,\n",
       " 5,\n",
       " 7,\n",
       " 6,\n",
       " 98,\n",
       " 1,\n",
       " 3,\n",
       " 5,\n",
       " 7,\n",
       " 6,\n",
       " 98,\n",
       " 1,\n",
       " 3,\n",
       " 5,\n",
       " 7,\n",
       " 6,\n",
       " 98,\n",
       " 1,\n",
       " 3,\n",
       " 5,\n",
       " 7,\n",
       " 6,\n",
       " 98]"
      ]
     },
     "execution_count": 12,
     "metadata": {},
     "output_type": "execute_result"
    }
   ],
   "source": [
    "[1,3,5,7,6,98] * 5"
   ]
  },
  {
   "cell_type": "markdown",
   "id": "1e439d8f",
   "metadata": {},
   "source": [
    "# Removing Values from Lists with del Statements"
   ]
  },
  {
   "cell_type": "code",
   "execution_count": 13,
   "id": "fd8dca37",
   "metadata": {},
   "outputs": [
    {
     "data": {
      "text/plain": [
       "['cat', 'bat', 'elephant']"
      ]
     },
     "execution_count": 13,
     "metadata": {},
     "output_type": "execute_result"
    }
   ],
   "source": [
    "spam = ['cat', 'bat', 'rat', 'elephant']\n",
    "\n",
    "del spam[2]\n",
    "\n",
    "spam"
   ]
  }
 ],
 "metadata": {
  "kernelspec": {
   "display_name": "Python 3 (ipykernel)",
   "language": "python",
   "name": "python3"
  },
  "language_info": {
   "codemirror_mode": {
    "name": "ipython",
    "version": 3
   },
   "file_extension": ".py",
   "mimetype": "text/x-python",
   "name": "python",
   "nbconvert_exporter": "python",
   "pygments_lexer": "ipython3",
   "version": "3.10.9"
  }
 },
 "nbformat": 4,
 "nbformat_minor": 5
}
