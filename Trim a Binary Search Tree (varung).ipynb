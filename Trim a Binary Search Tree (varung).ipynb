{
 "cells": [
  {
   "cell_type": "markdown",
   "metadata": {},
   "source": [
    "# Trim a Binary Search Tree \n",
    "\n",
    "## Problem Statement\n",
    "\n",
    "Given the root of a binary search tree and 2 numbers min and max, trim the tree such that all the numbers in the new tree are between min and max (inclusive). The resulting tree should still be a valid binary search tree. So, if we get this tree as input:\n",
    "___\n",
    "\n",
    "![title](bst1.png)\n",
    "___\n",
    "and we’re given **min value as 5** and **max value as 13**, then the resulting binary search tree should be: \n",
    "___\n",
    "![title](bst_trim.png)\n",
    "___\n",
    "We should remove all the nodes whose value is not between min and max. \n",
    "\n",
    "___\n",
    "** Feel free to reference the lecture on Binary Search Tree for the node class, but what it more important here is the logic of your function. In which case your function should be in the form:**"
   ]
  },
  {
   "cell_type": "code",
   "execution_count": 1,
   "metadata": {},
   "outputs": [],
   "source": [
    "def trimBST(tree,minVal,maxVal):\n",
    "    \n",
    "#     print tree.left # LeftChild\n",
    "#     print tree.right # Right Child\n",
    "#     print tree.val # Node's value\n",
    "    \n",
    "    pass\n",
    "\n",
    "# Use tree.left , tree.right , and tree.val as your methods to call"
   ]
  },
  {
   "cell_type": "markdown",
   "metadata": {},
   "source": [
    "** There is no solution cell because the nature of the code should be more logical and a test would essentially give away the answer. Just focus your answer to fill out the logic of the solution using the methods described above **\n",
    "\n",
    "## Best of luck!"
   ]
  },
  {
   "cell_type": "code",
   "execution_count": 2,
   "metadata": {},
   "outputs": [
    {
     "name": "stdout",
     "output_type": "stream",
     "text": [
      "3\n"
     ]
    }
   ],
   "source": [
    "class Node:\n",
    "    def __init__(self, val=None):\n",
    "        self.left = None\n",
    "        self.right = None\n",
    "        self.val =  val \n",
    "\n",
    "        \n",
    "def trimBST(tree,minVal,maxVal):\n",
    "    \n",
    "    if tree is None:\n",
    "        return \n",
    "    \n",
    "    tree.left = trimBST(tree.left, minVal, maxVal)\n",
    "    tree.right = trimBST(tree.right, minVal, maxVal)\n",
    "    \n",
    "    if minVal <= tree.val <= maxVal:\n",
    "        return tree\n",
    "    if tree.val <= minVal:\n",
    "        return tree.right\n",
    "    if tree.val <= maxVal:\n",
    "        return tree.left\n",
    "\n",
    "# Use tree.left , tree.right , and tree.val as your methods to call\n",
    "\n",
    "root = Node(1) \n",
    "root.left = Node(2) \n",
    "root.right = Node(3) \n",
    "root.left.left = Node(4) \n",
    "root.right.left = Node(5)\n",
    "root.right.right = Node(6)\n",
    "\n",
    "result = trimBST(root, 2, 5)\n",
    "print(result.val)"
   ]
  },
  {
   "cell_type": "code",
   "execution_count": null,
   "metadata": {},
   "outputs": [],
   "source": []
  }
 ],
 "metadata": {
  "kernelspec": {
   "display_name": "Python 3 (ipykernel)",
   "language": "python",
   "name": "python3"
  },
  "language_info": {
   "codemirror_mode": {
    "name": "ipython",
    "version": 3
   },
   "file_extension": ".py",
   "mimetype": "text/x-python",
   "name": "python",
   "nbconvert_exporter": "python",
   "pygments_lexer": "ipython3",
   "version": "3.10.9"
  }
 },
 "nbformat": 4,
 "nbformat_minor": 4
}
